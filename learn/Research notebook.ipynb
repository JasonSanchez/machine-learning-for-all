{
 "cells": [
  {
   "cell_type": "code",
   "execution_count": 31,
   "metadata": {
    "collapsed": true
   },
   "outputs": [],
   "source": [
    "%load_ext autoreload\n",
    "%autoreload 2"
   ]
  },
  {
   "cell_type": "code",
   "execution_count": 17,
   "metadata": {
    "collapsed": false
   },
   "outputs": [
    {
     "name": "stdout",
     "output_type": "stream",
     "text": [
      "Overwriting forall.py\n"
     ]
    }
   ],
   "source": [
    "%%file forall.py\n",
    "\n",
    "import pandas as pd\n",
    "from sklearn.ensemble import RandomForestRegressor\n",
    "from sklearn.model_selection import train_test_split\n",
    "from sklearn.metrics import r2_score\n",
    "\n",
    "\n",
    "error_messages = {\n",
    "    \"No clear target in training data\": \n",
    "        (\"The training data must have \" \n",
    "         \"exactly one more column than \" \n",
    "         \"the test data.\"),\n",
    "    \"Training data has too many columns\":\n",
    "        (\"The training data has more \"\n",
    "         \"than one column different than \"\n",
    "         \"the testing data: %s\")\n",
    "}\n",
    "\n",
    "def X_y_split(X_train, X_test):\n",
    "    \"\"\"\n",
    "    Determines which variables are the target\n",
    "    and which are the features. Returns just\n",
    "    The X and y data in the training dataset\n",
    "    as a tuple.\n",
    "    \n",
    "    Example usage:\n",
    "    X, y = learn.X_y_split(X_train, X_test)\n",
    "    \n",
    "    Parameters\n",
    "    ----------\n",
    "    X_train: pandas dataframe\n",
    "        The data that has the target in it.\n",
    "    \n",
    "    X_test: pandas dataframe\n",
    "        The data that does not have the target in it.\n",
    "    \"\"\"\n",
    "    n_train_cols = X_train.shape[1]\n",
    "    n_test_cols = X_test.shape[1]\n",
    "    \n",
    "    if n_train_cols != n_test_cols + 1:\n",
    "        msg = error_messages[\"No clear target in training data\"]\n",
    "        raise ValueError(msg)\n",
    "        \n",
    "    test_columns = set(X_test.columns)\n",
    "    train_columns = set(X_test.columns)\n",
    "    target_columns = train_columns - test_columns\n",
    "    if len(target_columns) > 1:\n",
    "        key = \"Training data has too many columns\"\n",
    "        msg_ = error_messages[key]\n",
    "        msg = msg_ % str(target_columns)\n",
    "        raise ValueError(msg)\n",
    "\n",
    "    extra_columns_in_test = test_columns - train_columns\n"
   ]
  },
  {
   "cell_type": "code",
   "execution_count": 8,
   "metadata": {
    "collapsed": false
   },
   "outputs": [
    {
     "name": "stdout",
     "output_type": "stream",
     "text": [
      "Overwriting utils.py\n"
     ]
    }
   ],
   "source": [
    "%%file utils.py\n",
    "\n",
    "from sklearn.datasets import load_boston\n",
    "from sklearn.model_selection import train_test_split\n",
    "\n",
    "\n",
    "def make_regression_data(source=\"boston\", \n",
    "                         missing_data=None, \n",
    "                         categorical=None, \n",
    "                         outliers=None):\n",
    "    \"\"\"\n",
    "    Utility function to assist in loading different \n",
    "    sample datasets. Returns training data (that \n",
    "    contains the target) and testing data (that\n",
    "    does not contain the target).\n",
    "    \n",
    "    Parameters\n",
    "    ----------\n",
    "    source: string, optional (default=\"boston\")\n",
    "        The specific dataset to load. Options:\n",
    "        - \"boston\": Boston housing dataset\n",
    "        \n",
    "    missing_data: bool or NoneType (default=None)\n",
    "        To be implemented\n",
    "        Determines if there is missing data\n",
    "        \n",
    "    categorical: bool or NoneType (default=None)\n",
    "        To be implemented\n",
    "        Determines if there is categorical data\n",
    "        \n",
    "    outliers: bool or NoneType (default=None)\n",
    "        To be implemented\n",
    "        Determines if there are outliers in the dataset\n",
    "    \"\"\"\n",
    "    boston_data = load_boston()\n",
    "    X = pd.DataFrame(data=boston_data.data, \n",
    "                     columns=boston_data.feature_names)\n",
    "    y = pd.Series(data=boston_data.target)\n",
    "    X_train, X_test, y_train, _ = train_test_split(X, \n",
    "                                                   y, \n",
    "                                                   test_size=.5,\n",
    "                                                   random_state=42)\n",
    "    X_train[\"target\"] = y_train\n",
    "    return X_train, X_test\n",
    "    "
   ]
  },
  {
   "cell_type": "code",
   "execution_count": 19,
   "metadata": {
    "collapsed": false
   },
   "outputs": [
    {
     "name": "stdout",
     "output_type": "stream",
     "text": [
      "Overwriting ../tests/model_tests.py\n"
     ]
    }
   ],
   "source": [
    "%%file ../tests/model_tests.py\n",
    "import unittest\n",
    "from learn import utils\n",
    "\n",
    "class TestUtils(unittest.TestCase):\n",
    "    def test_making_regression_data_simple(self):\n",
    "        X_train, X_test = utils.make_regression_data()\n",
    "        train_cols = X_train.columns\n",
    "        test_cols = X_test.columns\n",
    "        self.assertEquals(len(train_cols), len(test_cols)+1)\n",
    "\n",
    "class TestXYSplit(unittest.TestCase):\n",
    "    pass\n",
    "\n",
    "if __name__ == '__main__':\n",
    "    unittest.main()"
   ]
  },
  {
   "cell_type": "code",
   "execution_count": 20,
   "metadata": {
    "collapsed": false
   },
   "outputs": [
    {
     "name": "stderr",
     "output_type": "stream",
     "text": [
      "\n",
      "----------------------------------------------------------------------\n",
      "Ran 0 tests in 0.000s\n",
      "\n",
      "OK\n"
     ]
    }
   ],
   "source": [
    "!python -m unittest"
   ]
  },
  {
   "cell_type": "code",
   "execution_count": 8,
   "metadata": {
    "collapsed": false
   },
   "outputs": [],
   "source": [
    "boston_data = load_boston()\n",
    "\n",
    "X = pd.DataFrame(data=boston_data.data, columns=boston_data.feature_names)\n",
    "y = pd.Series(data=boston_data.target)\n",
    "\n",
    "X_train, X_test, y_train, y_test = train_test_split(X, y, test_size=.5, random_state=42)"
   ]
  },
  {
   "cell_type": "code",
   "execution_count": 35,
   "metadata": {
    "collapsed": false
   },
   "outputs": [],
   "source": [
    "import learn"
   ]
  },
  {
   "cell_type": "code",
   "execution_count": 36,
   "metadata": {
    "collapsed": false
   },
   "outputs": [
    {
     "ename": "ValueError",
     "evalue": "The training data must have exactly one more column than the test data",
     "output_type": "error",
     "traceback": [
      "\u001b[0;31m---------------------------------------------------------------------------\u001b[0m",
      "\u001b[0;31mValueError\u001b[0m                                Traceback (most recent call last)",
      "\u001b[0;32m<ipython-input-36-684a10615153>\u001b[0m in \u001b[0;36m<module>\u001b[0;34m()\u001b[0m\n\u001b[0;32m----> 1\u001b[0;31m \u001b[0mlearn\u001b[0m\u001b[1;33m.\u001b[0m\u001b[0mX_y_split\u001b[0m\u001b[1;33m(\u001b[0m\u001b[0mX_train\u001b[0m\u001b[1;33m=\u001b[0m\u001b[0mX_train\u001b[0m\u001b[1;33m,\u001b[0m \u001b[0mX_test\u001b[0m\u001b[1;33m=\u001b[0m\u001b[0mX_test\u001b[0m\u001b[1;33m)\u001b[0m\u001b[1;33m\u001b[0m\u001b[0m\n\u001b[0m",
      "\u001b[0;32mC:\\Users\\Sanchez\\Desktop\\machine-learning-for-all\\notebooks\\learn.py\u001b[0m in \u001b[0;36mX_y_split\u001b[0;34m(X_train, X_test)\u001b[0m\n\u001b[1;32m     30\u001b[0m     \u001b[1;32mif\u001b[0m \u001b[0mn_train_cols\u001b[0m \u001b[1;33m!=\u001b[0m \u001b[0mn_test_cols\u001b[0m \u001b[1;33m+\u001b[0m \u001b[1;36m1\u001b[0m\u001b[1;33m:\u001b[0m\u001b[1;33m\u001b[0m\u001b[0m\n\u001b[1;32m     31\u001b[0m         \u001b[0mmsg\u001b[0m \u001b[1;33m=\u001b[0m \u001b[0merror_messages\u001b[0m\u001b[1;33m[\u001b[0m\u001b[1;34m\"No clear target in training data\"\u001b[0m\u001b[1;33m]\u001b[0m\u001b[1;33m\u001b[0m\u001b[0m\n\u001b[0;32m---> 32\u001b[0;31m         \u001b[1;32mraise\u001b[0m \u001b[0mValueError\u001b[0m\u001b[1;33m(\u001b[0m\u001b[0mmsg\u001b[0m\u001b[1;33m)\u001b[0m\u001b[1;33m\u001b[0m\u001b[0m\n\u001b[0m\u001b[1;32m     33\u001b[0m \u001b[1;33m\u001b[0m\u001b[0m\n\u001b[1;32m     34\u001b[0m     \u001b[0mtest_columns\u001b[0m \u001b[1;33m=\u001b[0m \u001b[0mset\u001b[0m\u001b[1;33m(\u001b[0m\u001b[0mX_test\u001b[0m\u001b[1;33m.\u001b[0m\u001b[0mcolumns\u001b[0m\u001b[1;33m)\u001b[0m\u001b[1;33m\u001b[0m\u001b[0m\n",
      "\u001b[0;31mValueError\u001b[0m: The training data must have exactly one more column than the test data"
     ]
    }
   ],
   "source": [
    "learn.X_y_split(X_train=X_train, X_test=X_test)"
   ]
  },
  {
   "cell_type": "code",
   "execution_count": 22,
   "metadata": {
    "collapsed": false
   },
   "outputs": [
    {
     "data": {
      "text/plain": [
       "RandomForestRegressor(bootstrap=True, criterion='mse', max_depth=None,\n",
       "           max_features='auto', max_leaf_nodes=None,\n",
       "           min_impurity_split=1e-07, min_samples_leaf=1,\n",
       "           min_samples_split=2, min_weight_fraction_leaf=0.0,\n",
       "           n_estimators=100, n_jobs=1, oob_score=True, random_state=None,\n",
       "           verbose=0, warm_start=False)"
      ]
     },
     "execution_count": 22,
     "metadata": {},
     "output_type": "execute_result"
    }
   ],
   "source": [
    "model = RandomForestRegressor(n_estimators=100, oob_score=True)\n",
    "model.fit(X_train, y_train)"
   ]
  },
  {
   "cell_type": "code",
   "execution_count": 24,
   "metadata": {
    "collapsed": false
   },
   "outputs": [],
   "source": [
    "y_oob = model.oob_prediction_\n",
    "y_hat = model.predict(X_test)"
   ]
  },
  {
   "cell_type": "code",
   "execution_count": null,
   "metadata": {
    "collapsed": true
   },
   "outputs": [],
   "source": []
  }
 ],
 "metadata": {
  "kernelspec": {
   "display_name": "Python 3",
   "language": "python",
   "name": "python3"
  },
  "language_info": {
   "codemirror_mode": {
    "name": "ipython",
    "version": 3
   },
   "file_extension": ".py",
   "mimetype": "text/x-python",
   "name": "python",
   "nbconvert_exporter": "python",
   "pygments_lexer": "ipython3",
   "version": "3.6.0"
  }
 },
 "nbformat": 4,
 "nbformat_minor": 2
}
